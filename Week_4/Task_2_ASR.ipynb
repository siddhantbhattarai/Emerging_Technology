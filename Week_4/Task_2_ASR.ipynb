{
 "cells": [
  {
   "cell_type": "code",
   "execution_count": null,
   "id": "a1ecbacd-6dde-4d6d-a7b2-259bfe1111a6",
   "metadata": {},
   "outputs": [],
   "source": [
    "pip install SpeechRec"
   ]
  },
  {
   "cell_type": "code",
   "execution_count": 4,
   "id": "9ec46253-eee3-48b3-b93c-b29304170559",
   "metadata": {},
   "outputs": [
    {
     "name": "stdout",
     "output_type": "stream",
     "text": [
      "Converting audio transcripts into text ...\n",
      "don't ask me to Korean\n"
     ]
    }
   ],
   "source": [
    "#import library\n",
    "import speech_recognition as sr\n",
    "\n",
    "# Initialize recognizer class (for recognizing the speech)\n",
    "r = sr.Recognizer()\n",
    "\n",
    "# Reading Audio file as source\n",
    "# listening the audio file and store in audio_text variable\n",
    "\n",
    "with sr.AudioFile('input.wav') as source:\n",
    "    audio_text = r.listen(source)\n",
    "\n",
    "    # recognize_() method will throw a request error if the API is unreachable.\n",
    "    try:\n",
    "        # using google speech recognition\n",
    "        text = r.recognize_google(audio_text)\n",
    "        print('Converting audio transcripts into text ...')\n",
    "    except:\n",
    "        print('Sorry .. run again...')\n",
    "#Adding English language option\n",
    "text = r.recognize_google(audio_text, language = 'en-GB')\n",
    "print(text)"
   ]
  },
  {
   "cell_type": "code",
   "execution_count": 5,
   "id": "46b05963-54c4-434e-85f4-c1b41a9d56f8",
   "metadata": {},
   "outputs": [
    {
     "name": "stdout",
     "output_type": "stream",
     "text": [
      "Converting audio transcripts into text ...\n",
      "I can grow the state\n"
     ]
    }
   ],
   "source": [
    "#import library\n",
    "import speech_recognition as sr\n",
    "\n",
    "# Initialize recognizer class (for recognizing the speech)\n",
    "r = sr.Recognizer()\n",
    "\n",
    "# Reading Audio file as source\n",
    "# listening the audio file and store in audio_text variable\n",
    "\n",
    "with sr.AudioFile('OSR_us_000_0014_8k.wav') as source:\n",
    "    audio_text = r.listen(source)\n",
    "\n",
    "    # recognize_() method will throw a request error if the API is unreachable.\n",
    "    try:\n",
    "        # using google speech recognition\n",
    "        text = r.recognize_google(audio_text)\n",
    "        print('Converting audio transcripts into text ...')\n",
    "    except:\n",
    "        print('Sorry .. run again...')\n",
    "#Adding English language option\n",
    "text = r.recognize_google(audio_text, language = 'en-GB')\n",
    "print(text)"
   ]
  },
  {
   "cell_type": "code",
   "execution_count": null,
   "id": "cf110384-efbc-46b4-9f7b-859a982cf49f",
   "metadata": {},
   "outputs": [],
   "source": []
  }
 ],
 "metadata": {
  "kernelspec": {
   "display_name": "Python 3 (ipykernel)",
   "language": "python",
   "name": "python3"
  },
  "language_info": {
   "codemirror_mode": {
    "name": "ipython",
    "version": 3
   },
   "file_extension": ".py",
   "mimetype": "text/x-python",
   "name": "python",
   "nbconvert_exporter": "python",
   "pygments_lexer": "ipython3",
   "version": "3.11.9"
  }
 },
 "nbformat": 4,
 "nbformat_minor": 5
}
